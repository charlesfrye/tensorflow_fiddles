{
 "cells": [
  {
   "cell_type": "markdown",
   "metadata": {},
   "source": [
    "# Finding Critical Points of Neural Networks with Newton's Method"
   ]
  },
  {
   "cell_type": "markdown",
   "metadata": {},
   "source": [
    "Attempt to reproduce the findings in\n",
    "[Dauphin et al., 2014 - Identifying and attacking the saddle point problem in\n",
    "high-dimensional non-convex optimization](https://arxiv.org/pdf/1406.2572.pdf).\n",
    "Thus far unsuccessful."
   ]
  },
  {
   "cell_type": "markdown",
   "metadata": {},
   "source": [
    "We find that the gradient norms just don't go down very much when you use Newton's method to try to find critical points."
   ]
  },
  {
   "cell_type": "markdown",
   "metadata": {},
   "source": [
    "Differences:\n",
    "- SGD instead of saddle-free newton\n",
    "- no uniform noise\n",
    "- different (larger) range of \"fudging\" values\n",
    "- on a subset of MNIST\n",
    "\n",
    "Unknowns:\n",
    "- how did they downsample, and how much?\n",
    "- what was their criterion for improvement?\n",
    "- what was their stopping criterion?"
   ]
  },
  {
   "cell_type": "code",
   "execution_count": 1,
   "metadata": {},
   "outputs": [],
   "source": [
    "from crit_finder.graphs import nn\n",
    "from crit_finder import preprocess\n",
    "from crit_finder import run\n",
    "\n",
    "import numpy as np\n",
    "import tensorflow as tf"
   ]
  },
  {
   "cell_type": "code",
   "execution_count": 2,
   "metadata": {},
   "outputs": [
    {
     "name": "stdout",
     "output_type": "stream",
     "text": [
      "Extracting MNIST_data/train-images-idx3-ubyte.gz\n",
      "Extracting MNIST_data/train-labels-idx1-ubyte.gz\n",
      "Extracting MNIST_data/t10k-images-idx3-ubyte.gz\n",
      "Extracting MNIST_data/t10k-labels-idx1-ubyte.gz\n"
     ]
    }
   ],
   "source": [
    "from tensorflow.examples.tutorials.mnist import input_data\n",
    "mnist = input_data.read_data_sets('MNIST_data', one_hot=True)"
   ]
  },
  {
   "cell_type": "code",
   "execution_count": 3,
   "metadata": {},
   "outputs": [],
   "source": [
    "subsampled_mnist = preprocess.subsample(mnist)"
   ]
  },
  {
   "cell_type": "code",
   "execution_count": 4,
   "metadata": {},
   "outputs": [],
   "source": [
    "train_images, train_labels, test_images, test_labels = preprocess.get_train_and_test(mnist)"
   ]
  },
  {
   "cell_type": "code",
   "execution_count": 5,
   "metadata": {},
   "outputs": [],
   "source": [
    "subsampled_mnist = preprocess.subsample(mnist)\n",
    "downscaled_subsampled_mnist = preprocess.downscale(subsampled_mnist)"
   ]
  },
  {
   "cell_type": "code",
   "execution_count": 6,
   "metadata": {},
   "outputs": [],
   "source": [
    "input_size = downscaled_subsampled_mnist[\"train\"][\"images\"].shape[1]\n",
    "output_size = 10\n",
    "\n",
    "hyperparameters = {\"layer_sizes\":[10],\n",
    "                            \"nonlinearity\":tf.nn.relu,\n",
    "                            \"input_size\":input_size,\n",
    "                            \"output_size\":output_size,\n",
    "                             \"learning_rate\":0.5,\n",
    "                             \"inverse_method\": \"fudged\"\n",
    "                            }\n",
    "\n",
    "net = nn.make(hyperparameters)\n",
    "batch_size = 100"
   ]
  },
  {
   "cell_type": "code",
   "execution_count": 7,
   "metadata": {},
   "outputs": [
    {
     "name": "stdout",
     "output_type": "stream",
     "text": [
      "gradient_norm\tcost\n",
      "0.07456606 2.3000405\n",
      "0.14225022 1.1296964\n",
      "0.060339503 0.6503058\n",
      "0.040926628 0.5306064\n",
      "0.031636793 0.46485096\n",
      "0.024651445 0.42604536\n",
      "0.020336146 0.40166166\n",
      "0.018573852 0.38494128\n",
      "0.019730171 0.3724223\n",
      "0.024139566 0.3623992\n"
     ]
    }
   ],
   "source": [
    "final_gd_parameters = run.gradient_descent(net, downscaled_subsampled_mnist, num_steps=1000, batch_size=batch_size)"
   ]
  },
  {
   "cell_type": "code",
   "execution_count": 8,
   "metadata": {},
   "outputs": [
    {
     "name": "stdout",
     "output_type": "stream",
     "text": [
      "0\n",
      "0.03230041\n",
      "\t new norm is 0.024071678519248962\n",
      "\t new norm is 0.01293103862553835\n",
      "\t new norm is 0.012686979956924915\n",
      "1\n",
      "0.012686984\n",
      "\t new norm is 0.012591917999088764\n",
      "\t new norm is 0.012429138645529747\n",
      "\t new norm is 0.012080361135303974\n",
      "2\n",
      "0.012080359\n",
      "\t new norm is 0.012058567255735397\n",
      "\t new norm is 0.01200241968035698\n",
      "\t new norm is 0.01180065143853426\n",
      "3\n",
      "0.01180065\n",
      "\t new norm is 0.01179532054811716\n",
      "\t new norm is 0.011767582036554813\n",
      "4\n",
      "0.011767582\n",
      "\t new norm is 0.011747721582651138\n",
      "\t new norm is 0.011714240536093712\n",
      "5\n",
      "0.011714239\n",
      "\t new norm is 0.011685273610055447\n",
      "\t new norm is 0.011630612425506115\n",
      "6\n",
      "0.011630609\n",
      "\t new norm is 0.011626535095274448\n",
      "7\n",
      "0.011626532\n",
      "\t new norm is 0.011623182334005833\n",
      "8\n",
      "0.0116231805\n",
      "\t new norm is 0.011620264500379562\n",
      "9\n",
      "0.011620266\n",
      "\t new norm is 0.011617626994848251\n"
     ]
    }
   ],
   "source": [
    "best_parameters = run.optimally_fudged_newton_method(net, downscaled_subsampled_mnist, num_steps=10, batch_size=1000,\n",
    "                                   initial_parameters = final_gd_parameters,\n",
    "                                   fudge_factors = np.logspace(1,-5, num=7, dtype=np.float32))"
   ]
  }
 ],
 "metadata": {
  "kernelspec": {
   "display_name": "Python 3",
   "language": "python",
   "name": "python3"
  },
  "language_info": {
   "codemirror_mode": {
    "name": "ipython",
    "version": 3
   },
   "file_extension": ".py",
   "mimetype": "text/x-python",
   "name": "python",
   "nbconvert_exporter": "python",
   "pygments_lexer": "ipython3",
   "version": "3.4.3"
  }
 },
 "nbformat": 4,
 "nbformat_minor": 2
}
